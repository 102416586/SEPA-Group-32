{
 "cells": [
  {
   "cell_type": "code",
   "execution_count": 32,
   "metadata": {},
   "outputs": [],
   "source": [
    "import pandas as pd\n",
    "import math\n",
    "import numpy as np\n",
    "import pyodbc\n",
    "from sqlalchemy import create_engine\n",
    "import urllib"
   ]
  },
  {
   "cell_type": "code",
   "execution_count": 33,
   "metadata": {},
   "outputs": [],
   "source": [
    "level_col = 0\n",
    "item_col = 1\n",
    "desc_col = 2\n",
    "orig_col = 3\n",
    "check_col = 4\n",
    "quant_col = 5\n",
    "unit_col = 6\n",
    "total_col = 7\n",
    "rate_col = 7\n",
    "amount_col = 8"
   ]
  },
  {
   "cell_type": "code",
   "execution_count": 34,
   "metadata": {},
   "outputs": [],
   "source": [
    "params = urllib.parse.quote_plus('DRIVER={SQL Server};SERVER=WINDOWS-UJU3M60\\SQLEXPRESS;DATABASE=SMEC;UID=SMEC;PWD=smecs')\n",
    "engine = create_engine(\"mssql+pyodbc:///?odbc_connect=%s\" % params)"
   ]
  },
  {
   "cell_type": "code",
   "execution_count": 35,
   "metadata": {},
   "outputs": [],
   "source": [
    "#Read in Excel File to get sheet names\n",
    "#excel = pd.ExcelFile(\"Tender Schedule (NEW Branding).xlsm\")\n",
    "excel = pd.ExcelFile(\"1-1-2.xlsm\")\n",
    "sheets = excel.sheet_names\n",
    "fname = \"1-1-2\"\n",
    "Project_ID = fname.split(\"-\")[0]\n",
    "Form_ID = fname.split(\"-\")[1]\n",
    "Version_Number = fname.split(\"-\")[2]"
   ]
  },
  {
   "cell_type": "code",
   "execution_count": 36,
   "metadata": {},
   "outputs": [],
   "source": [
    "df_sub_form = pd.DataFrame(columns = [\"Primary Key\",\"Project ID\",\"Form ID\",\"Version Number\",\"Item ID\",\"Quantity\",\"Price\",\"Unit\",\"Amount\"])"
   ]
  },
  {
   "cell_type": "code",
   "execution_count": 37,
   "metadata": {},
   "outputs": [],
   "source": [
    "df_forms = pd.DataFrame(columns = {\"Form ID\", \"Form Name\"})"
   ]
  },
  {
   "cell_type": "code",
   "execution_count": 38,
   "metadata": {},
   "outputs": [],
   "source": [
    "#Read pages and convert to Data Frames\n",
    "#Data Frames stored in DF_List\n",
    "df_list = list()\n",
    "inc = 0\n",
    "for x in sheets :\n",
    "    df_list.append(pd.read_excel(\"1-1-1.xlsm\", sheet_name=x))\n",
    "    form = [[inc,x]]\n",
    "    df_forms = df_forms.append(pd.DataFrame(form,columns = [\"Form ID\", \"Form Name\"]),ignore_index = True)\n",
    "    inc += 1"
   ]
  },
  {
   "cell_type": "code",
   "execution_count": 39,
   "metadata": {},
   "outputs": [
    {
     "name": "stdout",
     "output_type": "stream",
     "text": [
      "Empty DataFrame\n",
      "Columns: [Primary Key, Project ID, Form ID, Version Number, Item ID, Quantity, Price, Unit, Amount]\n",
      "Index: []\n"
     ]
    }
   ],
   "source": []
  },
  {
   "cell_type": "code",
   "execution_count": 40,
   "metadata": {},
   "outputs": [
    {
     "name": "stdout",
     "output_type": "stream",
     "text": [
      "Empty DataFrame\n",
      "Columns: [Form ID, Level 1, Level 2, Level 3, Level 4, Level 5, Item ID, Description, Units]\n",
      "Index: []\n"
     ]
    }
   ],
   "source": [
    "# df_col = [\"Form ID\", \"Level 1\", \"Level 2\", \"Level 3\", \"Level 4\", \"Level 5\", \"Item ID\",\"Description\",\"Units\"]\n",
    "# df = pd.DataFrame(columns = df_col)\n",
    "# print(df)"
   ]
  },
  {
   "cell_type": "code",
   "execution_count": 41,
   "metadata": {},
   "outputs": [
    {
     "name": "stdout",
     "output_type": "stream",
     "text": [
      "     Primary Key Project ID  Form ID Version Number       Item ID  Quantity  \\\n",
      "0                         1        2              2   2.1.0.0.0.0       NaN   \n",
      "1                         1        2              2   2.1.1.0.0.0       NaN   \n",
      "2                         1        2              2   2.1.1.1.0.0       1.0   \n",
      "3                         1        2              2   2.1.1.2.0.0       1.0   \n",
      "4                         1        2              2   2.1.2.0.0.0       NaN   \n",
      "...          ...        ...      ...            ...           ...       ...   \n",
      "1613                      1       14              2  14.7.3.0.0.0      89.0   \n",
      "1614                      1       14              2  14.8.0.0.0.0       0.0   \n",
      "1615                      1       14              2  14.8.1.0.0.0      57.0   \n",
      "1616                      1       14              2  14.8.2.0.0.0      76.0   \n",
      "1617                      1       14              2  14.9.0.0.0.0       NaN   \n",
      "\n",
      "     Price  Unit  Amount  \n",
      "0      NaN   NaN     NaN  \n",
      "1      NaN   NaN     NaN  \n",
      "2       90  Item    90.0  \n",
      "3       57  Item    57.0  \n",
      "4      NaN   NaN     0.0  \n",
      "...    ...   ...     ...  \n",
      "1613    33  Item     NaN  \n",
      "1614     0   NaN     0.0  \n",
      "1615    10  Item   570.0  \n",
      "1616    57  Item  4332.0  \n",
      "1617   NaN   NaN     0.0  \n",
      "\n",
      "[1618 rows x 9 columns]\n"
     ]
    }
   ],
   "source": [
    "rows_list = []\n",
    "for x in range(0,len(sheets)-1):\n",
    "    inside = False\n",
    "    for index, rows in df_list[x].iterrows():\n",
    "        if inside :\n",
    "            #Check if at end of table\n",
    "            if rows[total_col] == \"Total\" :\n",
    "                inside = False\n",
    "            else :\n",
    "                hold = \"\"\n",
    "                df_hold = [\"\",\"0\",\"0\",\"0\",\"0\",\"0\",\"\",\"\",\"\"]\n",
    "                df_colh = [\"\",\"\",\"\",\"\",\"\",\"\",\"\",\"\",\"\"]\n",
    "                full_count = 0\n",
    "                rows[item_col] = str(rows[item_col])\n",
    "                if rows[item_col] != \"nan\":\n",
    "                    count = 0\n",
    "                    length = len(rows[item_col])\n",
    "                    for i in str(rows[item_col]):\n",
    "                        count += 1\n",
    "                        if i != \".\":\n",
    "                            hold = hold + i\n",
    "                            if count == length:\n",
    "                                df_hold[full_count + 1] = hold\n",
    "                        else:\n",
    "                            df_hold[full_count + 1] = hold\n",
    "                            full_count += 1\n",
    "                            hold = \"\"\n",
    "                    df_hold[7] = rows[desc_col]\n",
    "                    df_hold[0] = df_forms['Form ID'][x]\n",
    "                    for y in range(0,6):\n",
    "                        df_hold[6] = str(df_hold[6]) + str(df_hold[y]) + \".\"\n",
    "                    df_hold[6] = df_hold[6][:-1]\n",
    "                    dict1 = {}\n",
    "                    dict1.update({\"Primary Key\": \"\",\"Project ID\":Project_ID,\"Form ID\":df_forms['Form ID'][x],\"Version Number\":Version_Number,\"Item ID\":df_hold[6],\"Quantity\":rows[quant_col],\"Price\":rows[rate_col],\"Unit\":rows[unit_col],\"Amount\": rows[amount_col]})\n",
    "                    rows_list.append(dict1)\n",
    "                    \n",
    "                    # df_hold[6] = df_hold[6][:-1]\n",
    "                    # df_colh[1] = Project_ID\n",
    "                    # df_colh[2] = df_forms['Form ID'][x]\n",
    "                    # df_colh[3] = Version_Number\n",
    "                    # df_colh[4] = df_hold[6]\n",
    "                    # df_colh[5] = rows[quant_col]\n",
    "                    # df_colh[6] = rows[rate_col]\n",
    "                    # df_colh[7] = rows[unit_col]\n",
    "                    # df_colh[8] = rows[amount_col]\n",
    "                    # df_hold[8] = rows[unit_col]\n",
    "                    # s_row = pd.Series(df_hold, index=df.columns)\n",
    "                    # df_row = pd.Series(df_colh)\n",
    "                    # df_sub_form = df_sub_form.append(df_colh)\n",
    "                    # df = df.append(s_row,ignore_index=True)\n",
    "                    #print(df_colh)       \n",
    "\n",
    "        if rows[item_col] == \"Item\" :\n",
    "            inside = True\n",
    "df =pd.DataFrame(rows_list)\n",
    "print(df)"
   ]
  },
  {
   "cell_type": "code",
   "execution_count": 42,
   "metadata": {},
   "outputs": [],
   "source": []
  },
  {
   "cell_type": "code",
   "execution_count": 43,
   "metadata": {},
   "outputs": [],
   "source": [
    "df.to_sql('Submitted_Forms',engine,if_exists='append')"
   ]
  },
  {
   "cell_type": "code",
   "execution_count": 44,
   "metadata": {},
   "outputs": [],
   "source": [
    "#df.to_sql('Tender Master', engine, if_exists='replace')"
   ]
  },
  {
   "cell_type": "code",
   "execution_count": 45,
   "metadata": {},
   "outputs": [],
   "source": [
    "#df_forms.to_sql('Form_IDs', engine, if_exists='replace')"
   ]
  },
  {
   "cell_type": "code",
   "execution_count": 46,
   "metadata": {},
   "outputs": [],
   "source": [
    "#df.to_csv(\"test.csv\")"
   ]
  },
  {
   "cell_type": "code",
   "execution_count": 47,
   "metadata": {},
   "outputs": [],
   "source": [
    "#df_forms.to_csv(\"Form_IDs.csv\")"
   ]
  },
  {
   "cell_type": "code",
   "execution_count": null,
   "metadata": {},
   "outputs": [],
   "source": []
  }
 ],
 "metadata": {
  "interpreter": {
   "hash": "f08154012ddadd8e950e6e9e035c7a7b32c136e7647e9b7c77e02eb723a8bedb"
  },
  "kernelspec": {
   "display_name": "Python 3.7.6 ('base')",
   "language": "python",
   "name": "python3"
  },
  "language_info": {
   "codemirror_mode": {
    "name": "ipython",
    "version": 3
   },
   "file_extension": ".py",
   "mimetype": "text/x-python",
   "name": "python",
   "nbconvert_exporter": "python",
   "pygments_lexer": "ipython3",
   "version": "3.7.6"
  }
 },
 "nbformat": 4,
 "nbformat_minor": 4
}
