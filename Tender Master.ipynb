{
 "cells": [
  {
   "cell_type": "code",
   "execution_count": null,
   "metadata": {},
   "outputs": [],
   "source": [
    "import pandas as pd\n",
    "import math\n",
    "import numpy as np"
   ]
  },
  {
   "cell_type": "code",
   "execution_count": null,
   "metadata": {},
   "outputs": [],
   "source": [
    "level_col = 0\n",
    "item_col = 1\n",
    "desc_col = 2\n",
    "unit_col = 6\n",
    "total_col = 7"
   ]
  },
  {
   "cell_type": "code",
   "execution_count": null,
   "metadata": {},
   "outputs": [],
   "source": [
    "#Read in Excel File to get sheet names\n",
    "excel = pd.ExcelFile(\"Tender Schedule (NEW Branding).xltm\")\n",
    "sheets = excel.sheet_names"
   ]
  },
  {
   "cell_type": "code",
   "execution_count": null,
   "metadata": {},
   "outputs": [],
   "source": [
    "df_forms = pd.DataFrame(columns = {\"Form ID\", \"Form Name\"})\n"
   ]
  },
  {
   "cell_type": "code",
   "execution_count": null,
   "metadata": {},
   "outputs": [],
   "source": [
    "#Read pages and convert to Data Frames\n",
    "#Data Frames stored in DF_List\n",
    "df_list = list()\n",
    "inc = 0\n",
    "for x in sheets :\n",
    "    df_list.append(pd.read_excel(\"Tender Schedule (NEW Branding).xltm\", sheet_name=x))\n",
    "    form = [[inc,x]]\n",
    "    df_forms = df_forms.append(pd.DataFrame(form,columns = [\"Form ID\", \"Form Name\"]),ignore_index = True)\n",
    "    inc += 1"
   ]
  },
  {
   "cell_type": "code",
   "execution_count": null,
   "metadata": {},
   "outputs": [],
   "source": [
    "print(df_forms)"
   ]
  },
  {
   "cell_type": "code",
   "execution_count": null,
   "metadata": {},
   "outputs": [],
   "source": [
    "df_col = [\"Form ID\", \"Level 1\", \"Level 2\", \"Level 3\", \"Level 4\", \"Level 5\", \"Item ID\",\"Description\",\"Units\"]\n",
    "df = pd.DataFrame(columns = df_col)\n",
    "print(df)"
   ]
  },
  {
   "cell_type": "code",
   "execution_count": null,
   "metadata": {},
   "outputs": [],
   "source": [
    "for x in range(0,len(sheets)-1):\n",
    "    inside = False\n",
    "    for index, rows in df_list[x].iterrows():\n",
    "        if inside :\n",
    "            #Check if at end of table\n",
    "            if rows[total_col] == \"Total\" :\n",
    "                inside = False\n",
    "            else :\n",
    "                hold = \"\"\n",
    "                df_hold = [\"\",\"0\",\"0\",\"0\",\"0\",\"0\",\"\",\"\",\"\"]\n",
    "                full_count = 0\n",
    "                rows[item_col] = str(rows[item_col])\n",
    "                if rows[item_col] != \"nan\":\n",
    "                    count = 0\n",
    "                    length = len(rows[item_col])\n",
    "                    for i in str(rows[item_col]):\n",
    "                        count += 1\n",
    "                        if i != \".\":\n",
    "                            hold = hold + i\n",
    "                            if count == length:\n",
    "                                df_hold[full_count + 1] = hold\n",
    "                            #print(hold)\n",
    "                        else:\n",
    "                            df_hold[full_count + 1] = hold\n",
    "                            full_count += 1\n",
    "                            hold = \"\"\n",
    "                    df_hold[7] = rows[desc_col]\n",
    "                    df_hold[0] = df_forms['Form ID'][x]\n",
    "                    for y in range(0,6):\n",
    "                        df_hold[6] = str(df_hold[6]) + str(df_hold[y]) + \".\"\n",
    "                    df_hold[6] = df_hold[6][:-1]\n",
    "                    df_hold[8] = rows[unit_col]\n",
    "                    #PUSH TO SQL HERE\n",
    "                    s_row = pd.Series(df_hold, index=df.columns)\n",
    "                    df = df.append(s_row,ignore_index=True)\n",
    "                    print(df_hold)       \n",
    "\n",
    "        if rows[item_col] == \"Item\" :\n",
    "            inside = True"
   ]
  },
  {
   "cell_type": "code",
   "execution_count": null,
   "metadata": {},
   "outputs": [],
   "source": []
  },
  {
   "cell_type": "code",
   "execution_count": null,
   "metadata": {},
   "outputs": [],
   "source": []
  },
  {
   "cell_type": "code",
   "execution_count": null,
   "metadata": {},
   "outputs": [],
   "source": [
    "df.to_csv(\"test.csv\")"
   ]
  },
  {
   "cell_type": "code",
   "execution_count": null,
   "metadata": {},
   "outputs": [],
   "source": [
    "df_forms.to_csv(\"Form_IDs.csv\")"
   ]
  },
  {
   "cell_type": "code",
   "execution_count": null,
   "metadata": {},
   "outputs": [],
   "source": []
  }
 ],
 "metadata": {
  "kernelspec": {
   "display_name": "Python 3",
   "language": "python",
   "name": "python3"
  },
  "language_info": {
   "codemirror_mode": {
    "name": "ipython",
    "version": 3
   },
   "file_extension": ".py",
   "mimetype": "text/x-python",
   "name": "python",
   "nbconvert_exporter": "python",
   "pygments_lexer": "ipython3",
   "version": "3.7.6"
  }
 },
 "nbformat": 4,
 "nbformat_minor": 4
}
